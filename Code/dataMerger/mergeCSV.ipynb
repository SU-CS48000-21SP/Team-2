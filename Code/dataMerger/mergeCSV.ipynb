{
  "nbformat": 4,
  "nbformat_minor": 0,
  "metadata": {
    "colab": {
      "name": "mergeCSV.ipynb",
      "provenance": []
    },
    "kernelspec": {
      "name": "python3",
      "display_name": "Python 3"
    },
    "language_info": {
      "name": "python"
    }
  },
  "cells": [
    {
      "cell_type": "code",
      "execution_count": 5,
      "metadata": {
        "colab": {
          "base_uri": "https://localhost:8080/"
        },
        "id": "wbmYb1M6v1_V",
        "outputId": "b1f3a6ce-0a4e-4c3b-cd8a-2335ffadeb37"
      },
      "outputs": [
        {
          "output_type": "stream",
          "name": "stdout",
          "text": [
            "<bound method NDFrame.head of        Bug ID           Product            Component           Assignee  \\\n",
            "0      206487  Power Management                Other                 bp   \n",
            "1      215367  Power Management  Hibernation/Suspend        david.e.box   \n",
            "2      210095  Power Management  Hibernation/Suspend  drivers_video-dri   \n",
            "3      215057  Power Management         intel_pstate  kristen.c.accardi   \n",
            "4      215554  Power Management         intel_pstate  kristen.c.accardi   \n",
            "...       ...               ...                  ...                ...   \n",
            "33217    2859   Alternate Trees                   mm              stern   \n",
            "33218    4382   Alternate Trees                   mm            vojtech   \n",
            "33219    4398   Alternate Trees                   mm            zaitcev   \n",
            "33220    6004   Alternate Trees                   mm                zam   \n",
            "33221     522   Alternate Trees                   mm              zwane   \n",
            "\n",
            "       Status      Resolution  \\\n",
            "0         NEW             ---   \n",
            "1         NEW             ---   \n",
            "2         NEW             ---   \n",
            "3         NEW             ---   \n",
            "4         NEW             ---   \n",
            "...       ...             ...   \n",
            "33217  CLOSED        CODE_FIX   \n",
            "33218  CLOSED        CODE_FIX   \n",
            "33219  CLOSED        CODE_FIX   \n",
            "33220  CLOSED        CODE_FIX   \n",
            "33221  CLOSED  UNREPRODUCIBLE   \n",
            "\n",
            "                                                 Summary              Changed  \n",
            "0      Random freezes/crashes with enabled C-State C6...  2021-10-03 07:27:52  \n",
            "1      5.15.10: XPS 13 7390 ICL not able to enter S0i...  2022-04-23 01:54:55  \n",
            "2      amdgpu : hibernate failed on A12-9700P (R7 bri...  2021-01-02 11:11:17  \n",
            "3      intel_pstate \"powersave\" governor results in w...  2021-12-09 19:26:00  \n",
            "4      Cannot use energy_performance_preference witho...  2022-03-21 00:31:46  \n",
            "...                                                  ...                  ...  \n",
            "33217                    Oops in usb code at kernel init  2004-06-14 07:26:40  \n",
            "33218       first joystick button mapped to extra number  2005-06-24 05:21:02  \n",
            "33219  sleeping function called from invalid context ...  2005-03-25 10:11:48  \n",
            "33220                     openoffice.org crashes reiser4  2006-04-11 22:40:20  \n",
            "33221       Booting noapic leads to a ton of APIC errors  2003-06-09 15:56:27  \n",
            "\n",
            "[33222 rows x 8 columns]>\n"
          ]
        }
      ],
      "source": [
        "import pandas as pd\n",
        "import glob\n",
        "import os\n",
        "  \n",
        "# merging the files\n",
        "joined_files = os.path.join(\"/content\", \"*Bugs.csv\")\n",
        "  \n",
        "# A list of all joined files is returned\n",
        "joined_list = glob.glob(joined_files)\n",
        "  \n",
        "# Finally, the files are joined\n",
        "df = pd.concat(map(pd.read_csv, joined_list), ignore_index=True)\n",
        "print(df.head)\n",
        "df.to_csv('updatedData.csv')"
      ]
    }
  ]
}