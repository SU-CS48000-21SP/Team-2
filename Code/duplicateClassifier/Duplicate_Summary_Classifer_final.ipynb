{
  "nbformat": 4,
  "nbformat_minor": 0,
  "metadata": {
    "colab": {
      "name": "Duplicate Summary Classifer.ipynb",
      "provenance": []
    },
    "kernelspec": {
      "name": "python3",
      "display_name": "Python 3"
    },
    "language_info": {
      "name": "python"
    }
  },
  "cells": [
    {
      "cell_type": "code",
      "execution_count": 1,
      "metadata": {
        "colab": {
          "base_uri": "https://localhost:8080/"
        },
        "id": "dQ-_GHXtJZb4",
        "outputId": "56a51a89-9bbd-4564-f3df-bac5d49cdf00"
      },
      "outputs": [
        {
          "output_type": "stream",
          "name": "stdout",
          "text": [
            "Tensorflow Hub Version:  0.12.0\n"
          ]
        }
      ],
      "source": [
        "import pandas as pd\n",
        "import numpy as np\n",
        "import tensorflow_hub as hub\n",
        "from sklearn.cluster import KMeans\n",
        "from sklearn.model_selection import train_test_split\n",
        "from sklearn import metrics\n",
        "from sklearn.model_selection import KFold\n",
        "from google.colab import drive\n",
        "import tensorflow as tf\n",
        "import tensorflow_hub as hub\n",
        "from keras import backend as K\n",
        "from tensorflow.keras.layers import Dense, Input, BatchNormalization, Dropout, concatenate, GlobalAveragePooling1D\n",
        "from tensorflow.keras.models import Model, Sequential\n",
        "from tensorflow.keras.optimizers import Adam, SGD\n",
        "from tensorflow.keras.utils import to_categorical\n",
        "import itertools\n",
        "import matplotlib.pyplot as plt\n",
        "\n",
        "pd.options.display.max_colwidth = 500\n",
        "print(\"Tensorflow Hub Version: \", hub.__version__)\n",
        "\n",
        "SEED = 42\n",
        "\n",
        "module_url = 'https://tfhub.dev/google/universal-sentence-encoder-large/4'\n",
        "USE_embed = hub.KerasLayer(module_url, trainable=False, name='USE_embedding')\n",
        "\n",
        "df = pd.read_csv(\"/content/alldata.csv\")\n",
        "df = df[df.Summary != 'Other']\n",
        "df = df.sample(frac = 1)\n"
      ]
    },
    {
      "cell_type": "code",
      "source": [
        "df.head"
      ],
      "metadata": {
        "colab": {
          "base_uri": "https://localhost:8080/"
        },
        "id": "Px25waF-NwdW",
        "outputId": "4b0e2457-6857-4418-fe57-76c1b22ceb50"
      },
      "execution_count": 2,
      "outputs": [
        {
          "output_type": "execute_result",
          "data": {
            "text/plain": [
              "<bound method NDFrame.head of       Bug ID                     Product               Component  \\\n",
              "3185  204725                     Drivers  Video(DRI - non Intel)   \n",
              "7227  199555                     Drivers             Sound(ALSA)   \n",
              "8158  107371                SCSI Drivers                   Other   \n",
              "240   116881           Memory Management          Page Allocator   \n",
              "1875  206287                     Drivers        network-wireless   \n",
              "...      ...                         ...                     ...   \n",
              "1275  107741                     Drivers                  MMC/SD   \n",
              "5672  204017  Platform Specific/Hardware                     ARM   \n",
              "5384  115041                 File System                   btrfs   \n",
              "1413   85211                     Drivers                 Network   \n",
              "7888  214675  Platform Specific/Hardware                  x86-64   \n",
              "\n",
              "                      Assignee Status Resolution  \\\n",
              "3185         drivers_video-dri    NEW        ---   \n",
              "7227                     perex    NEW        ---   \n",
              "8158        scsi_drivers-other    NEW        ---   \n",
              "240                       akpm    NEW        ---   \n",
              "1875  drivers_network-wireless    NEW        ---   \n",
              "...                        ...    ...        ...   \n",
              "1275            drivers_mmc-sd    NEW        ---   \n",
              "5672          linux-arm-kernel    NEW        ---   \n",
              "5384                     josef    NEW        ---   \n",
              "1413           drivers_network    NEW        ---   \n",
              "7888           platform_x86_64    NEW        ---   \n",
              "\n",
              "                                                                                      Summary  \\\n",
              "3185                                                                             black screen   \n",
              "7227  Asus N501VW ALC668 noise after suspend and every time headphone microphone doesn't work   \n",
              "8158                                                 I/O error when accessing disk in standby   \n",
              "240                    kernel oops/system freeze when attaching USB3.0 device via front panel   \n",
              "1875                                  ath10k / ieee80211 phy0: Hardware restart was requested   \n",
              "...                                                                                       ...   \n",
              "1275                                       Built in MMC reader is detected but does not work.   \n",
              "5672                                                                      Various boot delays   \n",
              "5384                 kernel BUG at fs/btrfs/volumes.c:5519 when hot-removing device in RAID-1   \n",
              "1413                                            e1000e: transmit queue 0 timed out + RCU hang   \n",
              "7888                      Unable to get an event on tablet mode on Asus Vivobook Flip TM420IA   \n",
              "\n",
              "                  Changed  \n",
              "3185  2019-11-03 10:39:17  \n",
              "7227  2018-05-27 19:58:47  \n",
              "8158  2020-08-27 22:08:58  \n",
              "240   2016-07-02 07:28:33  \n",
              "1875  2020-01-27 09:20:48  \n",
              "...                   ...  \n",
              "1275  2018-03-07 09:44:54  \n",
              "5672  2020-03-20 06:22:40  \n",
              "5384  2016-04-02 14:43:02  \n",
              "1413  2016-03-19 17:22:12  \n",
              "7888  2021-10-10 15:56:23  \n",
              "\n",
              "[10000 rows x 8 columns]>"
            ]
          },
          "metadata": {},
          "execution_count": 2
        }
      ]
    },
    {
      "cell_type": "code",
      "source": [
        "from absl import logging\n",
        "\n",
        "import tensorflow as tf\n",
        "\n",
        "import tensorflow_hub as hub\n",
        "import matplotlib.pyplot as plt\n",
        "import numpy as np\n",
        "import os\n",
        "import pandas as pd\n",
        "import re\n",
        "import seaborn as sns\n",
        "\n",
        "module_url = \"https://tfhub.dev/google/universal-sentence-encoder/4\" #@param [\"https://tfhub.dev/google/universal-sentence-encoder/4\", \"https://tfhub.dev/google/universal-sentence-encoder-large/5\"]\n",
        "model = hub.load(module_url)\n",
        "print (\"module %s loaded\" % module_url)\n",
        "def embed(input):\n",
        "  return model(input)"
      ],
      "metadata": {
        "colab": {
          "base_uri": "https://localhost:8080/"
        },
        "id": "KC4qFYWiKoiF",
        "outputId": "a91043cf-083c-4410-ef84-9662baa0425d"
      },
      "execution_count": 3,
      "outputs": [
        {
          "output_type": "stream",
          "name": "stdout",
          "text": [
            "module https://tfhub.dev/google/universal-sentence-encoder/4 loaded\n"
          ]
        }
      ]
    },
    {
      "cell_type": "code",
      "source": [
        "messages = df['Summary'].tolist()\n",
        "message_embeddings = embed(messages)\n"
      ],
      "metadata": {
        "id": "i_FfaNDOJn30"
      },
      "execution_count": 4,
      "outputs": []
    },
    {
      "cell_type": "code",
      "source": [
        "from scipy.spatial import distance\n",
        "inputSummary = input('summary: ')\n",
        "summaryArr = [inputSummary]\n",
        "inputEmbedding = embed(summaryArr)\n",
        "embeddingSingle = inputEmbedding[0]\n",
        "for i, message_embedding in enumerate(np.array(message_embeddings).tolist()):\n",
        "  if ((1 - distance.cosine(embeddingSingle, message_embedding)) > 0.90):\n",
        "    print('This summary might be a duplciate of {}'.format(messages[i]))"
      ],
      "metadata": {
        "id": "dNtPj6RKK3dL",
        "colab": {
          "base_uri": "https://localhost:8080/"
        },
        "outputId": "78cc71c0-b4e2-4c85-eeac-0ba0584951b9"
      },
      "execution_count": 6,
      "outputs": [
        {
          "output_type": "stream",
          "name": "stdout",
          "text": [
            "summary: MMC reader is detected but does not work.\n",
            "This summary might be a duplciate of Built in MMC reader is detected but does not work.\n"
          ]
        }
      ]
    }
  ]
}