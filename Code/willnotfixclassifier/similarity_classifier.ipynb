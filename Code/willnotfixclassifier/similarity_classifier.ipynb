{
  "nbformat": 4,
  "nbformat_minor": 0,
  "metadata": {
    "colab": {
      "name": "similarity_classifier.ipynb",
      "provenance": []
    },
    "kernelspec": {
      "name": "python3",
      "display_name": "Python 3"
    },
    "language_info": {
      "name": "python"
    }
  },
  "cells": [
    {
      "cell_type": "code",
      "execution_count": 2,
      "metadata": {
        "colab": {
          "base_uri": "https://localhost:8080/"
        },
        "id": "Vv0Yh9_4mLPM",
        "outputId": "48940736-5c09-4ae4-f346-f3ef39c99835"
      },
      "outputs": [
        {
          "output_type": "stream",
          "name": "stdout",
          "text": [
            "Tensorflow Hub Version:  0.12.0\n"
          ]
        }
      ],
      "source": [
        "import pandas as pd\n",
        "import numpy as np\n",
        "import tensorflow_hub as hub\n",
        "from sklearn.cluster import KMeans\n",
        "from sklearn.model_selection import train_test_split\n",
        "from sklearn import metrics\n",
        "from sklearn.model_selection import KFold\n",
        "from google.colab import drive\n",
        "import tensorflow as tf\n",
        "import tensorflow_hub as hub\n",
        "from keras import backend as K\n",
        "from tensorflow.keras.layers import Dense, Input, BatchNormalization, Dropout, concatenate, GlobalAveragePooling1D\n",
        "from tensorflow.keras.models import Model, Sequential\n",
        "from tensorflow.keras.optimizers import Adam, SGD\n",
        "from tensorflow.keras.utils import to_categorical\n",
        "import itertools\n",
        "import matplotlib.pyplot as plt\n",
        "\n",
        "pd.options.display.max_colwidth = 500\n",
        "print(\"Tensorflow Hub Version: \", hub.__version__)\n",
        "\n",
        "SEED = 42\n",
        "\n",
        "module_url = 'https://tfhub.dev/google/universal-sentence-encoder-large/4'\n",
        "USE_embed = hub.KerasLayer(module_url, trainable=False, name='USE_embedding')\n",
        "\n",
        "df = pd.read_csv(\"/content/newData.csv\")\n",
        "df = df[df.Summary != 'Other']\n",
        "df = df.sample(frac = 1)"
      ]
    },
    {
      "cell_type": "code",
      "source": [
        "df_only_will_not_fix = df[df.Resolution == 'WILL_NOT_FIX']"
      ],
      "metadata": {
        "id": "VmU2nz7PmPI3"
      },
      "execution_count": 5,
      "outputs": []
    },
    {
      "cell_type": "code",
      "source": [
        "from absl import logging\n",
        "\n",
        "import tensorflow as tf\n",
        "\n",
        "import tensorflow_hub as hub\n",
        "import matplotlib.pyplot as plt\n",
        "import numpy as np\n",
        "import os\n",
        "import pandas as pd\n",
        "import re\n",
        "import seaborn as sns\n",
        "\n",
        "module_url = \"https://tfhub.dev/google/universal-sentence-encoder/4\" #@param [\"https://tfhub.dev/google/universal-sentence-encoder/4\", \"https://tfhub.dev/google/universal-sentence-encoder-large/5\"]\n",
        "model = hub.load(module_url)\n",
        "print (\"module %s loaded\" % module_url)\n",
        "def embed(input):\n",
        "  return model(input)"
      ],
      "metadata": {
        "colab": {
          "base_uri": "https://localhost:8080/"
        },
        "id": "w1vBmsR1mZWN",
        "outputId": "cbbd848c-61fd-4800-df3b-5bd3bad9843e"
      },
      "execution_count": 6,
      "outputs": [
        {
          "output_type": "stream",
          "name": "stdout",
          "text": [
            "module https://tfhub.dev/google/universal-sentence-encoder/4 loaded\n"
          ]
        }
      ]
    },
    {
      "cell_type": "code",
      "source": [
        "messages = df_only_will_not_fix['Summary'].tolist()\n",
        "message_embeddings = embed(messages)\n"
      ],
      "metadata": {
        "id": "a0sUjG1AnE-W"
      },
      "execution_count": 7,
      "outputs": []
    },
    {
      "cell_type": "code",
      "source": [
        "df_only_will_not_fix.head"
      ],
      "metadata": {
        "colab": {
          "base_uri": "https://localhost:8080/"
        },
        "id": "oiZsDmEInfEk",
        "outputId": "1bfa34fb-4183-4067-d5ce-305f14cb41a3"
      },
      "execution_count": 9,
      "outputs": [
        {
          "output_type": "execute_result",
          "data": {
            "text/plain": [
              "<bound method NDFrame.head of        Unnamed: 0  Bug ID      Product       Component             Assignee  \\\n",
              "17821       17821    3391  File System             NFS              trondmy   \n",
              "2468         2468   97841         ACPI  Config-Hotplug             aaron.lu   \n",
              "26094       26094  198501   Networking           Other              stephen   \n",
              "27056       27056   92731   Networking        Wireless  networking_wireless   \n",
              "18409       18409   14119  File System             NFS              trondmy   \n",
              "...           ...     ...          ...             ...                  ...   \n",
              "16218       16218   16157  File System        ecryptfs                 code   \n",
              "16914       16914   10856  File System             VFS               fs_vfs   \n",
              "19514       19514    8851   IO/Storage             IDE             headless   \n",
              "16982       16982   68131  File System  FAT/VFAT/MSDOS             hirofumi   \n",
              "23898       23898   12369        Other           Other          other_other   \n",
              "\n",
              "         Status    Resolution  \\\n",
              "17821  REJECTED  WILL_NOT_FIX   \n",
              "2468     CLOSED  WILL_NOT_FIX   \n",
              "26094  RESOLVED  WILL_NOT_FIX   \n",
              "27056    CLOSED  WILL_NOT_FIX   \n",
              "18409    CLOSED  WILL_NOT_FIX   \n",
              "...         ...           ...   \n",
              "16218  RESOLVED  WILL_NOT_FIX   \n",
              "16914  RESOLVED  WILL_NOT_FIX   \n",
              "19514  RESOLVED  WILL_NOT_FIX   \n",
              "16982  RESOLVED  WILL_NOT_FIX   \n",
              "23898  REJECTED  WILL_NOT_FIX   \n",
              "\n",
              "                                                                            Summary  \\\n",
              "17821                                      Solaris jumpstart fails from kernel nfsd   \n",
              "2468                     Make it possible to detect that a battery is inside a dock   \n",
              "26094                                        Kernel shouldn't enforce UNIX_PATH_MAX   \n",
              "27056                                         High latency with Intel wireless 7260   \n",
              "18409         NLM GRANTED callback denied when from different server source address   \n",
              "...                                                                             ...   \n",
              "16218                  Ecryptfs is very slow at listing directories with many files   \n",
              "16914  incorrect tracking of overwritten files of running processes in /proc/<pid>/   \n",
              "19514     hard lock with drivers for hpt374 sata controller (Highpoint Rocket 1540)   \n",
              "16982                                 Time on FAT file system not correct after DST   \n",
              "23898                                         Performace drop from 2.6.10 to 2.6.21   \n",
              "\n",
              "                   Changed  \n",
              "17821  2004-09-15 02:22:36  \n",
              "2468   2016-06-27 07:54:47  \n",
              "26094  2018-01-18 15:47:11  \n",
              "27056  2015-02-10 18:32:01  \n",
              "18409  2010-02-03 21:09:12  \n",
              "...                    ...  \n",
              "16218  2011-06-17 07:08:15  \n",
              "16914  2012-08-29 17:08:43  \n",
              "19514  2019-05-04 14:56:36  \n",
              "16982  2014-01-06 17:18:33  \n",
              "23898  2009-01-12 00:31:25  \n",
              "\n",
              "[953 rows x 9 columns]>"
            ]
          },
          "metadata": {},
          "execution_count": 9
        }
      ]
    },
    {
      "cell_type": "code",
      "source": [
        "from scipy.spatial import distance\n",
        "inputSummary = input('summary: ')\n",
        "summaryArr = [inputSummary]\n",
        "inputEmbedding = embed(summaryArr)\n",
        "embeddingSingle = inputEmbedding[0]\n",
        "for i, message_embedding in enumerate(np.array(message_embeddings).tolist()):\n",
        "  if ((1 - distance.cosine(embeddingSingle, message_embedding)) > 0.80):\n",
        "    print('This bug report might be a feature because a similar bug report with summary \"{}\" was resolved as WILL_NOT_FIX'.format(messages[i]))"
      ],
      "metadata": {
        "colab": {
          "base_uri": "https://localhost:8080/"
        },
        "id": "zpvVm6mZnKTW",
        "outputId": "83dedff7-7425-41ed-a186-b0dea4ee94d0"
      },
      "execution_count": 11,
      "outputs": [
        {
          "output_type": "stream",
          "name": "stdout",
          "text": [
            "summary: ecryptfs is quite slow when I want to list directories that has toom many files\n",
            "This bug report might be a feature because a similar bug report with summary \"Ecryptfs is very slow at listing directories with many files\" was resolved as WILL_NOT_FIX\n"
          ]
        }
      ]
    }
  ]
}