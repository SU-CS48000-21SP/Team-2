{
  "nbformat": 4,
  "nbformat_minor": 0,
  "metadata": {
    "colab": {
      "name": "cleanData.ipynb",
      "provenance": []
    },
    "kernelspec": {
      "name": "python3",
      "display_name": "Python 3"
    },
    "language_info": {
      "name": "python"
    }
  },
  "cells": [
    {
      "cell_type": "code",
      "execution_count": 1,
      "metadata": {
        "colab": {
          "base_uri": "https://localhost:8080/"
        },
        "id": "wVycuAcrx-Ns",
        "outputId": "ff593f60-1e2c-47cc-dc67-f399c637813b"
      },
      "outputs": [
        {
          "output_type": "stream",
          "name": "stdout",
          "text": [
            "       Unnamed: 0  Bug ID           Product            Component  \\\n",
            "0               0  206487  Power Management                Other   \n",
            "1               1  215367  Power Management  Hibernation/Suspend   \n",
            "2               2  210095  Power Management  Hibernation/Suspend   \n",
            "3               3  215057  Power Management         intel_pstate   \n",
            "4               4  215554  Power Management         intel_pstate   \n",
            "...           ...     ...               ...                  ...   \n",
            "33217       33217    2859   Alternate Trees                   mm   \n",
            "33218       33218    4382   Alternate Trees                   mm   \n",
            "33219       33219    4398   Alternate Trees                   mm   \n",
            "33220       33220    6004   Alternate Trees                   mm   \n",
            "33221       33221     522   Alternate Trees                   mm   \n",
            "\n",
            "                Assignee  Status      Resolution  \\\n",
            "0                     bp     NEW             ---   \n",
            "1            david.e.box     NEW             ---   \n",
            "2      drivers_video-dri     NEW             ---   \n",
            "3      kristen.c.accardi     NEW             ---   \n",
            "4      kristen.c.accardi     NEW             ---   \n",
            "...                  ...     ...             ...   \n",
            "33217              stern  CLOSED        CODE_FIX   \n",
            "33218            vojtech  CLOSED        CODE_FIX   \n",
            "33219            zaitcev  CLOSED        CODE_FIX   \n",
            "33220                zam  CLOSED        CODE_FIX   \n",
            "33221              zwane  CLOSED  UNREPRODUCIBLE   \n",
            "\n",
            "                                                 Summary              Changed  \n",
            "0      Random freezes/crashes with enabled C-State C6...  2021-10-03 07:27:52  \n",
            "1      5.15.10: XPS 13 7390 ICL not able to enter S0i...  2022-04-23 01:54:55  \n",
            "2      amdgpu : hibernate failed on A12-9700P (R7 bri...  2021-01-02 11:11:17  \n",
            "3      intel_pstate \"powersave\" governor results in w...  2021-12-09 19:26:00  \n",
            "4      Cannot use energy_performance_preference witho...  2022-03-21 00:31:46  \n",
            "...                                                  ...                  ...  \n",
            "33217                    Oops in usb code at kernel init  2004-06-14 07:26:40  \n",
            "33218       first joystick button mapped to extra number  2005-06-24 05:21:02  \n",
            "33219  sleeping function called from invalid context ...  2005-03-25 10:11:48  \n",
            "33220                     openoffice.org crashes reiser4  2006-04-11 22:40:20  \n",
            "33221       Booting noapic leads to a ton of APIC errors  2003-06-09 15:56:27  \n",
            "\n",
            "[33222 rows x 9 columns]\n"
          ]
        }
      ],
      "source": [
        "import pandas as pd\n",
        "df = pd.read_csv('/content/newData.csv')\n",
        "\n",
        "print(df)"
      ]
    },
    {
      "cell_type": "code",
      "source": [
        "components_map = {}\n",
        "components = ['Other', 'Perf tool', 'Power-Thermal', 'ACPICA-Core', 'BIOS', 'Boot', 'HotPlug', 'Platform_x86', 'Config-Interrupts', 'Config-Processors', 'Config-Tables', 'EC', 'Config-Other', 'Preemption', 'Power-Battery', 'Platform', 'Power-Off', 'Power-Other', 'Power-Processor', 'Power-Sleep-Wake', 'Power-Video', 'LVM2/DM', 'Serial ATA', 'Video(AGP)', 'Video(DRI - non Intel)', 'Slab Allocator', 'Page Allocator', 'MTTR', 'DIO', 'SysFS', 'mm', 'Input Devices', 'Console/Framebuffers', 'Serial', 'USB', 'Staging', 'Configuration', 'Video(DRI - Intel)', 'mjb', 'rt', 'PNP', 'x86-64', 'NFS', 'Wireless', 'network-wireless', 'Block Layer', 'SCSI', 'Backports', 'Bug Tracker', 'S390', 'Network', 'NUMA/discontigmem', 'man-pages', 'dvb-frontend', 'I2C', 'PCI', 'Bluetooth', 'EDAC', 'IEEE1394', 'IIO', 'Infiniband/RDMA', 'Sound(ALSA)', 'IOMMU', 'ISDN', 'MMC/SD', 'ARM', 'network-wireless-intel', 'dvb-usb', 'dvb-other', 'QLOGIC QLA2XXX', 'ttpci', 'kvm', 'Parallel', 'Video(Other)', 'Scheduler', 'Sound(OSS)', 'webcam', 'Hibernation/Suspend', 'em28xx', 'bt8xx', 'v4l-other', 'W1', 'Watchdog', 'btrfs', 'Sanitizers', 'Flash/Memory Technology Devices', 'Video', 'v9fs', 'f2fs', 'XFS', 'CIFS', 'devfs', 'ecryptfs', 'ext2', 'ext3', 'ext4', 'MD', 'gfs2', 'HFS/HFSPLUS', 'ocfs2', 'VFS', 'Samba/SMB', 'squashfs', 'Kernel Perf', 'UDF', 'FAT/VFAT/MSDOS', 'saa7134', 'IDE', 'NVMe', 'Hardware Monitoring', 'UML', 'IA-64', 'gettimeofday', 'intel_pstate', 'intel_idle', 'cpuidle', 'PCMCIA', 'cpufreq', 'DC390', 'File Locking', 'PA-RISC', 'Netfilter/Iptables', 'Modules', 'Loadable Security Modules (LSM)', 'module-init-tools', 'Spam', 'AIO', 'i386', 'PPC-32', 'PPC-64', 'SPARC64', 'MIPS', 'ReiserFS', 'Run-Time-PM', 'Ftrace', 'Alpha', 'Thermal', 'AACRAID', 'AIC94XX', 'sym53c8xx', 'JFS', 'IPV4', 'IPV6', 'Interval Timers', 'Realtime Clock', 'KUnit', 'pm-graph', 'Trace-cmd/Kernelshark', 'cx88', 'dvb-core', 'v4l-core', 'radio', 'lguest', 'Xen', 'AFFS', 'klibc/kinit', 'Sparse', 'DC395X', 'Config-Hotplug', 'Power-Fan', 'Power-Lid']\n",
        "for i in range(len(components)):\n",
        "  components_map[components[i]] = i+1\n",
        "\n",
        "print(components_map)"
      ],
      "metadata": {
        "colab": {
          "base_uri": "https://localhost:8080/"
        },
        "id": "-gibAjb6zSho",
        "outputId": "4d405048-b227-4758-a6a0-eb8bfacadf15"
      },
      "execution_count": 2,
      "outputs": [
        {
          "output_type": "stream",
          "name": "stdout",
          "text": [
            "{'Other': 1, 'Perf tool': 2, 'Power-Thermal': 3, 'ACPICA-Core': 4, 'BIOS': 5, 'Boot': 6, 'HotPlug': 7, 'Platform_x86': 8, 'Config-Interrupts': 9, 'Config-Processors': 10, 'Config-Tables': 11, 'EC': 12, 'Config-Other': 13, 'Preemption': 14, 'Power-Battery': 15, 'Platform': 16, 'Power-Off': 17, 'Power-Other': 18, 'Power-Processor': 19, 'Power-Sleep-Wake': 20, 'Power-Video': 21, 'LVM2/DM': 22, 'Serial ATA': 23, 'Video(AGP)': 24, 'Video(DRI - non Intel)': 25, 'Slab Allocator': 26, 'Page Allocator': 27, 'MTTR': 28, 'DIO': 29, 'SysFS': 30, 'mm': 31, 'Input Devices': 32, 'Console/Framebuffers': 33, 'Serial': 34, 'USB': 35, 'Staging': 36, 'Configuration': 37, 'Video(DRI - Intel)': 38, 'mjb': 39, 'rt': 40, 'PNP': 41, 'x86-64': 42, 'NFS': 43, 'Wireless': 44, 'network-wireless': 45, 'Block Layer': 46, 'SCSI': 47, 'Backports': 48, 'Bug Tracker': 49, 'S390': 50, 'Network': 51, 'NUMA/discontigmem': 52, 'man-pages': 53, 'dvb-frontend': 54, 'I2C': 55, 'PCI': 56, 'Bluetooth': 57, 'EDAC': 58, 'IEEE1394': 59, 'IIO': 60, 'Infiniband/RDMA': 61, 'Sound(ALSA)': 62, 'IOMMU': 63, 'ISDN': 64, 'MMC/SD': 65, 'ARM': 66, 'network-wireless-intel': 67, 'dvb-usb': 68, 'dvb-other': 69, 'QLOGIC QLA2XXX': 70, 'ttpci': 71, 'kvm': 72, 'Parallel': 73, 'Video(Other)': 74, 'Scheduler': 75, 'Sound(OSS)': 76, 'webcam': 77, 'Hibernation/Suspend': 78, 'em28xx': 79, 'bt8xx': 80, 'v4l-other': 81, 'W1': 82, 'Watchdog': 83, 'btrfs': 84, 'Sanitizers': 85, 'Flash/Memory Technology Devices': 86, 'Video': 87, 'v9fs': 88, 'f2fs': 89, 'XFS': 90, 'CIFS': 91, 'devfs': 92, 'ecryptfs': 93, 'ext2': 94, 'ext3': 95, 'ext4': 96, 'MD': 97, 'gfs2': 98, 'HFS/HFSPLUS': 99, 'ocfs2': 100, 'VFS': 101, 'Samba/SMB': 102, 'squashfs': 103, 'Kernel Perf': 104, 'UDF': 105, 'FAT/VFAT/MSDOS': 106, 'saa7134': 107, 'IDE': 108, 'NVMe': 109, 'Hardware Monitoring': 110, 'UML': 111, 'IA-64': 112, 'gettimeofday': 113, 'intel_pstate': 114, 'intel_idle': 115, 'cpuidle': 116, 'PCMCIA': 117, 'cpufreq': 118, 'DC390': 119, 'File Locking': 120, 'PA-RISC': 121, 'Netfilter/Iptables': 122, 'Modules': 123, 'Loadable Security Modules (LSM)': 124, 'module-init-tools': 125, 'Spam': 126, 'AIO': 127, 'i386': 128, 'PPC-32': 129, 'PPC-64': 130, 'SPARC64': 131, 'MIPS': 132, 'ReiserFS': 133, 'Run-Time-PM': 134, 'Ftrace': 135, 'Alpha': 136, 'Thermal': 137, 'AACRAID': 138, 'AIC94XX': 139, 'sym53c8xx': 140, 'JFS': 141, 'IPV4': 142, 'IPV6': 143, 'Interval Timers': 144, 'Realtime Clock': 145, 'KUnit': 146, 'pm-graph': 147, 'Trace-cmd/Kernelshark': 148, 'cx88': 149, 'dvb-core': 150, 'v4l-core': 151, 'radio': 152, 'lguest': 153, 'Xen': 154, 'AFFS': 155, 'klibc/kinit': 156, 'Sparse': 157, 'DC395X': 158, 'Config-Hotplug': 159, 'Power-Fan': 160, 'Power-Lid': 161}\n"
          ]
        }
      ]
    },
    {
      "cell_type": "code",
      "source": [
        "#list(df[\"Product\"].unique())"
      ],
      "metadata": {
        "id": "tbIXeXsxz2gY"
      },
      "execution_count": null,
      "outputs": []
    },
    {
      "cell_type": "code",
      "source": [
        "df['Summary'] = df['Summary'].apply(lambda x: str(x).lower())\n",
        "#df['Summary'].fillna(\"-\", inplace = True)\n"
      ],
      "metadata": {
        "colab": {
          "base_uri": "https://localhost:8080/"
        },
        "id": "_C364ObNzfgo",
        "outputId": "6a61bc03-f986-41fd-d7c3-cb9e7ef145a5"
      },
      "execution_count": 8,
      "outputs": [
        {
          "output_type": "stream",
          "name": "stdout",
          "text": [
            "Unnamed: 0     int64\n",
            "Bug ID         int64\n",
            "Product       object\n",
            "Component     object\n",
            "Assignee      object\n",
            "Status        object\n",
            "Resolution    object\n",
            "Summary       object\n",
            "Changed       object\n",
            "dtype: object\n"
          ]
        }
      ]
    },
    {
      "cell_type": "code",
      "source": [
        "df[\"Component\"] = df[\"Component\"].replace(components_map)"
      ],
      "metadata": {
        "id": "vjEHGIkJzgCn"
      },
      "execution_count": 9,
      "outputs": []
    },
    {
      "cell_type": "code",
      "source": [
        "df['Status'].unique().tolist()"
      ],
      "metadata": {
        "colab": {
          "base_uri": "https://localhost:8080/"
        },
        "id": "ZVpsMYHuDhKi",
        "outputId": "b6295b8d-6ec0-4f58-9add-995281aa4261"
      },
      "execution_count": 11,
      "outputs": [
        {
          "output_type": "execute_result",
          "data": {
            "text/plain": [
              "['NEW',\n",
              " 'ASSIGNED',\n",
              " 'REOPENED',\n",
              " 'RESOLVED',\n",
              " 'VERIFIED',\n",
              " 'REJECTED',\n",
              " 'DEFERRED',\n",
              " 'NEEDINFO',\n",
              " 'CLOSED']"
            ]
          },
          "metadata": {},
          "execution_count": 11
        }
      ]
    },
    {
      "cell_type": "code",
      "source": [
        "df = df[df['Status'] != 'REJECTED']\n",
        "df['Status'].unique().tolist()"
      ],
      "metadata": {
        "colab": {
          "base_uri": "https://localhost:8080/"
        },
        "id": "yPQgpklrD-YU",
        "outputId": "d645c031-129a-4dee-98a6-2efcb26f7398"
      },
      "execution_count": 13,
      "outputs": [
        {
          "output_type": "execute_result",
          "data": {
            "text/plain": [
              "['NEW',\n",
              " 'ASSIGNED',\n",
              " 'REOPENED',\n",
              " 'RESOLVED',\n",
              " 'VERIFIED',\n",
              " 'DEFERRED',\n",
              " 'NEEDINFO',\n",
              " 'CLOSED']"
            ]
          },
          "metadata": {},
          "execution_count": 13
        }
      ]
    },
    {
      "cell_type": "code",
      "source": [
        "df['Resolution'].unique().tolist()"
      ],
      "metadata": {
        "colab": {
          "base_uri": "https://localhost:8080/"
        },
        "id": "Q_KgDYrMEvd2",
        "outputId": "e3e6a06a-d1f4-4865-d902-1dfbd5d3c404"
      },
      "execution_count": 15,
      "outputs": [
        {
          "output_type": "execute_result",
          "data": {
            "text/plain": [
              "[' ---',\n",
              " 'DUPLICATE',\n",
              " 'PATCH_ALREADY_AVAILABLE',\n",
              " 'CODE_FIX',\n",
              " 'UNREPRODUCIBLE',\n",
              " 'INVALID',\n",
              " 'INSUFFICIENT_DATA',\n",
              " 'DOCUMENTED',\n",
              " 'MOVED',\n",
              " 'OBSOLETE',\n",
              " 'ANSWERED',\n",
              " 'WILL_NOT_FIX',\n",
              " 'WILL_FIX_LATER',\n",
              " 'IMPLEMENTED']"
            ]
          },
          "metadata": {},
          "execution_count": 15
        }
      ]
    },
    {
      "cell_type": "code",
      "source": [
        "df = df[(df['Resolution'] != 'INVALID') & (df['Resolution'] != 'MOVED') & (df['Resolution'] != 'MOVED')]\n",
        "df['Resolution'].unique().tolist()"
      ],
      "metadata": {
        "colab": {
          "base_uri": "https://localhost:8080/"
        },
        "id": "a-WUYRI9E2iD",
        "outputId": "476f3c42-4318-41e1-eec8-47923b77252b"
      },
      "execution_count": 16,
      "outputs": [
        {
          "output_type": "execute_result",
          "data": {
            "text/plain": [
              "[' ---',\n",
              " 'DUPLICATE',\n",
              " 'PATCH_ALREADY_AVAILABLE',\n",
              " 'CODE_FIX',\n",
              " 'UNREPRODUCIBLE',\n",
              " 'INSUFFICIENT_DATA',\n",
              " 'DOCUMENTED',\n",
              " 'OBSOLETE',\n",
              " 'ANSWERED',\n",
              " 'WILL_NOT_FIX',\n",
              " 'WILL_FIX_LATER',\n",
              " 'IMPLEMENTED']"
            ]
          },
          "metadata": {},
          "execution_count": 16
        }
      ]
    },
    {
      "cell_type": "code",
      "source": [
        "df.to_csv('cleanedData.csv')"
      ],
      "metadata": {
        "id": "seS4kKvsFVTj"
      },
      "execution_count": 17,
      "outputs": []
    },
    {
      "cell_type": "code",
      "source": [
        "df.shape"
      ],
      "metadata": {
        "colab": {
          "base_uri": "https://localhost:8080/"
        },
        "id": "4LWi2jQmFkVW",
        "outputId": "548cbda2-a5b0-4647-85eb-6230b9445281"
      },
      "execution_count": 18,
      "outputs": [
        {
          "output_type": "execute_result",
          "data": {
            "text/plain": [
              "(26875, 9)"
            ]
          },
          "metadata": {},
          "execution_count": 18
        }
      ]
    }
  ]
}